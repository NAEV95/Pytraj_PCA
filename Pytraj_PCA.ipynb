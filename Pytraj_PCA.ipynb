{
 "cells": [
  {
   "cell_type": "code",
   "execution_count": 53,
   "metadata": {
    "collapsed": true
   },
   "outputs": [],
   "source": [
    "import  pytraj as pt\n",
    "import MDAnalysis as mda\n",
    "from MDAnalysis.analysis import align, rms\n",
    "import os\n",
    "import numpy as np"
   ]
  },
  {
   "cell_type": "code",
   "execution_count": 35,
   "outputs": [
    {
     "data": {
      "text/plain": "'/home/nick/PycharmProjects/Pytraj_PCA'"
     },
     "execution_count": 35,
     "metadata": {},
     "output_type": "execute_result"
    }
   ],
   "source": [
    "os.getcwd()"
   ],
   "metadata": {
    "collapsed": false
   }
  },
  {
   "cell_type": "code",
   "execution_count": 18,
   "outputs": [],
   "source": [
    "top = '/home/nick/Documents/10_200ns/md_0_1.tpr'\n",
    "traj = '/home/nick/Documents/10_200ns/md_0_1_noPBC.xtc'\n",
    "pdb = '/home/nick/Documents/10_200ns/EKB1m.pdb'"
   ],
   "metadata": {
    "collapsed": false
   }
  },
  {
   "cell_type": "code",
   "execution_count": 29,
   "outputs": [],
   "source": [
    "u = mda.Universe(top, traj)\n",
    "\n",
    "# Select the first frame of the trajectory\n",
    "first_frame = u.trajectory[0]\n"
   ],
   "metadata": {
    "collapsed": false
   }
  },
  {
   "cell_type": "code",
   "execution_count": 32,
   "outputs": [
    {
     "name": "stderr",
     "output_type": "stream",
     "text": [
      "/usr/ulocal/anaconda3/envs/mdthings/lib/python3.8/site-packages/MDAnalysis/coordinates/PDB.py:1129: UserWarning: Found no information for attr: 'altLocs' Using default value of ' '\n",
      "  warnings.warn(\"Found no information for attr: '{}'\"\n",
      "/usr/ulocal/anaconda3/envs/mdthings/lib/python3.8/site-packages/MDAnalysis/coordinates/PDB.py:1129: UserWarning: Found no information for attr: 'icodes' Using default value of ' '\n",
      "  warnings.warn(\"Found no information for attr: '{}'\"\n",
      "/usr/ulocal/anaconda3/envs/mdthings/lib/python3.8/site-packages/MDAnalysis/coordinates/PDB.py:1129: UserWarning: Found no information for attr: 'chainIDs' Using default value of ''\n",
      "  warnings.warn(\"Found no information for attr: '{}'\"\n",
      "/usr/ulocal/anaconda3/envs/mdthings/lib/python3.8/site-packages/MDAnalysis/coordinates/PDB.py:1129: UserWarning: Found no information for attr: 'occupancies' Using default value of '1.0'\n",
      "  warnings.warn(\"Found no information for attr: '{}'\"\n",
      "/usr/ulocal/anaconda3/envs/mdthings/lib/python3.8/site-packages/MDAnalysis/coordinates/PDB.py:1129: UserWarning: Found no information for attr: 'tempfactors' Using default value of '0.0'\n",
      "  warnings.warn(\"Found no information for attr: '{}'\"\n",
      "/usr/ulocal/anaconda3/envs/mdthings/lib/python3.8/site-packages/MDAnalysis/coordinates/PDB.py:1129: UserWarning: Found no information for attr: 'record_types' Using default value of 'ATOM'\n",
      "  warnings.warn(\"Found no information for attr: '{}'\"\n",
      "/usr/ulocal/anaconda3/envs/mdthings/lib/python3.8/site-packages/MDAnalysis/coordinates/PDB.py:1129: UserWarning: Found no information for attr: 'formalcharges' Using default value of '0'\n",
      "  warnings.warn(\"Found no information for attr: '{}'\"\n",
      "/usr/ulocal/anaconda3/envs/mdthings/lib/python3.8/site-packages/MDAnalysis/coordinates/PDB.py:1176: UserWarning: Found missing chainIDs. Corresponding atoms will use value of 'X'\n",
      "  warnings.warn(\"Found missing chainIDs.\"\n"
     ]
    }
   ],
   "source": [
    "# Write the first frame as a pdb file\n",
    "with mda.Writer(\"first_frame.pdb\") as W:\n",
    "    W.write(u.atoms)"
   ],
   "metadata": {
    "collapsed": false
   }
  },
  {
   "cell_type": "code",
   "execution_count": 36,
   "outputs": [],
   "source": [
    "frame_zero = 'first_frame.pdb'"
   ],
   "metadata": {
    "collapsed": false
   }
  },
  {
   "cell_type": "code",
   "execution_count": 37,
   "outputs": [],
   "source": [
    "traj = pt.load(traj, top=frame_zero)"
   ],
   "metadata": {
    "collapsed": false
   }
  },
  {
   "cell_type": "code",
   "execution_count": 38,
   "outputs": [],
   "source": [
    "output_name = 'rmsd_ca'\n",
    "\n",
    "rmsd = pt.rmsd(traj, ref=0, mask='@CA')"
   ],
   "metadata": {
    "collapsed": false
   }
  },
  {
   "cell_type": "code",
   "execution_count": 51,
   "outputs": [
    {
     "name": "stdout",
     "output_type": "stream",
     "text": [
      "20.001\n"
     ]
    }
   ],
   "source": [
    "time = len(rmsd)*int(1)/1000"
   ],
   "metadata": {
    "collapsed": false
   }
  },
  {
   "cell_type": "code",
   "execution_count": 54,
   "outputs": [],
   "source": [
    "time_array = np.arange(0,time,int(1)/1000)*int(1)"
   ],
   "metadata": {
    "collapsed": false
   }
  },
  {
   "cell_type": "code",
   "execution_count": null,
   "outputs": [],
   "source": [
    "# compute pca\n",
    "data = pt.pca(traj, mask='!@H=', n_vecs=2)\n",
    "\n",
    "print('projection values of each frame to first mode = {} \\n'.format(data[0][0]))\n",
    "print('projection values of each frame to second mode = {} \\n'.format(data[0][1]))\n",
    "print('eigvenvalues of first two modes', data[1][0])\n",
    "print(\"\")\n",
    "print('eigvenvectors of first two modes: \\n', data[1][1])"
   ],
   "metadata": {
    "collapsed": false,
    "pycharm": {
     "is_executing": true
    }
   }
  },
  {
   "cell_type": "code",
   "execution_count": null,
   "outputs": [],
   "source": [
    "%matplotlib inline\n",
    "%config InlineBackend.figure_format = 'retina'  # high resolution\n",
    "import matplotlib\n",
    "\n",
    "projection_data = data[0]\n",
    "from matplotlib import pyplot as plt\n",
    "\n",
    "plt.scatter(projection_data[0], projection_data[1], marker='o', c=range(traj.n_frames), alpha=0.5)\n",
    "plt.xlabel('PC1')\n",
    "plt.ylabel('PC2')\n",
    "cbar = plt.colorbar()\n",
    "cbar.set_label('frame #')"
   ],
   "metadata": {
    "collapsed": false,
    "pycharm": {
     "is_executing": true
    }
   }
  }
 ],
 "metadata": {
  "kernelspec": {
   "display_name": "Python 3",
   "language": "python",
   "name": "python3"
  },
  "language_info": {
   "codemirror_mode": {
    "name": "ipython",
    "version": 2
   },
   "file_extension": ".py",
   "mimetype": "text/x-python",
   "name": "python",
   "nbconvert_exporter": "python",
   "pygments_lexer": "ipython2",
   "version": "2.7.6"
  }
 },
 "nbformat": 4,
 "nbformat_minor": 0
}
